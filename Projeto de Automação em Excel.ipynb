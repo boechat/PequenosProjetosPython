{
 "cells": [
  {
   "cell_type": "markdown",
   "id": "249f5864",
   "metadata": {},
   "source": [
    "<h2>Escopo</h2>\n",
    "    \n",
    "Preciso automatizar uma planilha que está em CSV, extraída de um software para uma planilha consolidada em Excel.\n",
    "<br>Preciso que haja uma atualização diária dessa planilha para ser enviada por email\n",
    "\n",
    "* Referência: <b>Canal Hashtag Programação</b> [Freela de Python de 500 Dólares - Automação de Planilhas com Python](https://www.youtube.com/watch?v=Rdy_93K98ec)\n",
    " "
   ]
  },
  {
   "cell_type": "markdown",
   "id": "75c928bb",
   "metadata": {},
   "source": [
    "---\n",
    "\n",
    "Arquivos usados serão:\n",
    "\n",
    "* base1.csv\n",
    "* base2.csv\n",
    "* base3.csv\n",
    "* base4.csv\n",
    "\n",
    "---\n",
    "\n",
    "<h3> Projeto</h3>\n",
    "\n",
    "* Usando as bases, deverá consolidar as informações\n",
    "* Deverá enviar por email o relatório\n",
    "* No dia seguinte, será recebido novos relatórios que deverão ser tratados"
   ]
  },
  {
   "cell_type": "code",
   "execution_count": 45,
   "id": "697160e5",
   "metadata": {},
   "outputs": [
    {
     "ename": "ModuleNotFoundError",
     "evalue": "No module named 'win32com.cliente'",
     "output_type": "error",
     "traceback": [
      "\u001b[1;31m---------------------------------------------------------------------------\u001b[0m",
      "\u001b[1;31mModuleNotFoundError\u001b[0m                       Traceback (most recent call last)",
      "\u001b[1;32m~\\AppData\\Local\\Temp\\ipykernel_9300\\3405445910.py\u001b[0m in \u001b[0;36m<module>\u001b[1;34m\u001b[0m\n\u001b[0;32m      1\u001b[0m \u001b[1;32mimport\u001b[0m \u001b[0mpandas\u001b[0m \u001b[1;32mas\u001b[0m \u001b[0mpd\u001b[0m\u001b[1;33m\u001b[0m\u001b[1;33m\u001b[0m\u001b[0m\n\u001b[0;32m      2\u001b[0m \u001b[1;32mfrom\u001b[0m \u001b[0mdatetime\u001b[0m \u001b[1;32mimport\u001b[0m \u001b[0mdatetime\u001b[0m\u001b[1;33m\u001b[0m\u001b[1;33m\u001b[0m\u001b[0m\n\u001b[1;32m----> 3\u001b[1;33m \u001b[1;32mimport\u001b[0m \u001b[0mwin32com\u001b[0m\u001b[1;33m.\u001b[0m\u001b[0mcliente\u001b[0m \u001b[1;32mas\u001b[0m \u001b[0mwin32\u001b[0m\u001b[1;33m\u001b[0m\u001b[1;33m\u001b[0m\u001b[0m\n\u001b[0m\u001b[0;32m      4\u001b[0m \u001b[1;32mimport\u001b[0m \u001b[0mos\u001b[0m   \u001b[1;31m#mexer nos arquivos do computador\u001b[0m\u001b[1;33m\u001b[0m\u001b[1;33m\u001b[0m\u001b[0m\n\u001b[0;32m      5\u001b[0m \u001b[1;31m#import pywin32  #para enviar email via Outlook\u001b[0m\u001b[1;33m\u001b[0m\u001b[1;33m\u001b[0m\u001b[0m\n",
      "\u001b[1;31mModuleNotFoundError\u001b[0m: No module named 'win32com.cliente'"
     ]
    }
   ],
   "source": [
    "import pandas as pd\n",
    "from datetime import datetime\n",
    "import win32com.cliente as win32\n",
    "import os   #mexer nos arquivos do computador\n",
    "#import pywin32  #para enviar email via Outlook\n",
    "\n",
    "caminho = r'C:\\Users\\User\\Desktop\\RPA\\Projeto de Automação em Excel\\\\'\n",
    "b1 = 'base1.csv'\n",
    "b2 = 'base2.csv'\n",
    "b3 = 'base3.csv'\n",
    "b4 = 'base4.csv'\n",
    "\n",
    "# Cria um arquivo consolida\n",
    "consolida = pd.DataFrame()\n",
    "        \n"
   ]
  },
  {
   "cell_type": "code",
   "execution_count": 43,
   "id": "5c682fb6",
   "metadata": {},
   "outputs": [
    {
     "name": "stdout",
     "output_type": "stream",
     "text": [
      "C:\\Users\\User\\Desktop\\RPA\\Projeto de Automação em Excel\\\\Consolidado20231111.xlsx\n"
     ]
    }
   ],
   "source": [
    "# Verifica os arquivos na pasta\n",
    "arquivos = os.listdir(caminho)\n",
    "#print(arquivos)\n",
    "\n",
    "#Loop Na Pasta para Adicionar na consolidada\n",
    "for arq in arquivos:\n",
    "    #Formatar Coluna DATA DE VENDA\n",
    "    basevendas = pd.read_csv(caminho+arq)\n",
    "    #Calcula pelo padrão do excel de 01/01/1900 somando os dias da Data de Venda com o to_timedelta com unit d\n",
    "    basevendas['Data de Venda'] = pd.to_datetime('01/01/1900') + pd.to_timedelta(basevendas['Data de Venda'],unit='d')\n",
    "    \n",
    "    consolida = pd.concat([consolida,basevendas])\n",
    "\n",
    "# Ordenando por Data de Venda\n",
    "consolida = consolida.sort_values(by='Data de Venda')\n",
    "# Resetando o Index e removendo o antigo\n",
    "consolida = consolida.reset_index(drop=True)\n",
    "\n",
    "# Pegando Data Atual\n",
    "data_agora = datetime.datetime.now()\n",
    "formatar = \"%Y%m%d\"\n",
    "data_formatada = data_agora.strftime(formatar)\n",
    "\n",
    "#Salvando em excel\n",
    "consolida.to_excel(caminho+'Consolidado'+str(data_formatada)+'.xlsx',index=False,sheet_name=str(data_formatada))\n",
    "caminho_completo = (caminho+'Consolidado'+str(data_formatada)+'.xlsx')\n",
    "\n"
   ]
  },
  {
   "cell_type": "code",
   "execution_count": 44,
   "id": "8bca926f",
   "metadata": {},
   "outputs": [
    {
     "ename": "NameError",
     "evalue": "name 'win32' is not defined",
     "output_type": "error",
     "traceback": [
      "\u001b[1;31m---------------------------------------------------------------------------\u001b[0m",
      "\u001b[1;31mNameError\u001b[0m                                 Traceback (most recent call last)",
      "\u001b[1;32m~\\AppData\\Local\\Temp\\ipykernel_9300\\2298789415.py\u001b[0m in \u001b[0;36m<module>\u001b[1;34m\u001b[0m\n\u001b[0;32m      4\u001b[0m \u001b[1;31m### Para que funcione, precisa estar com o outlook configurado no computador\u001b[0m\u001b[1;33m\u001b[0m\u001b[1;33m\u001b[0m\u001b[0m\n\u001b[0;32m      5\u001b[0m \u001b[1;33m\u001b[0m\u001b[0m\n\u001b[1;32m----> 6\u001b[1;33m \u001b[0moutlook\u001b[0m \u001b[1;33m=\u001b[0m \u001b[0mwin32\u001b[0m\u001b[1;33m.\u001b[0m\u001b[0mDispatch\u001b[0m\u001b[1;33m(\u001b[0m\u001b[1;34m'outlook.application'\u001b[0m\u001b[1;33m)\u001b[0m\u001b[1;33m\u001b[0m\u001b[1;33m\u001b[0m\u001b[0m\n\u001b[0m\u001b[0;32m      7\u001b[0m \u001b[0memail\u001b[0m \u001b[1;33m=\u001b[0m \u001b[0moutlook\u001b[0m\u001b[1;33m.\u001b[0m\u001b[0mCreateItem\u001b[0m\u001b[1;33m(\u001b[0m\u001b[1;36m0\u001b[0m\u001b[1;33m)\u001b[0m\u001b[1;33m\u001b[0m\u001b[1;33m\u001b[0m\u001b[0m\n\u001b[0;32m      8\u001b[0m \u001b[0memail\u001b[0m\u001b[1;33m.\u001b[0m\u001b[0mTo\u001b[0m \u001b[1;33m=\u001b[0m \u001b[1;34m'emaildeteste@teste.com'\u001b[0m\u001b[1;33m\u001b[0m\u001b[1;33m\u001b[0m\u001b[0m\n",
      "\u001b[1;31mNameError\u001b[0m: name 'win32' is not defined"
     ]
    }
   ],
   "source": [
    "### Conectando com o Outlook\n",
    "### Usando win32com.cliente as win32\n",
    "\n",
    "### Para que funcione, precisa estar com o outlook configurado no computador\n",
    "\n",
    "outlook = win32.Dispatch('outlook.application')\n",
    "email = outlook.CreateItem(0)\n",
    "email.To = 'emaildeteste@teste.com'\n",
    "data_hoje = datetime.today().strftime(\"$d/$m/%Y\")\n",
    "email.Subject = f\"Relatório de Vendas{data_hoje}\"\n",
    "email.Body = \"\"\"\n",
    "Prezados, \n",
    "\n",
    "Segue anexo o relatório do dia {data_hoje} atualizado.\n",
    "\n",
    "\"\"\"\n",
    "email.Attachmens.Add(caminho_completo)\n",
    "\n",
    "email.Send()"
   ]
  }
 ],
 "metadata": {
  "kernelspec": {
   "display_name": "Python 3 (ipykernel)",
   "language": "python",
   "name": "python3"
  },
  "language_info": {
   "codemirror_mode": {
    "name": "ipython",
    "version": 3
   },
   "file_extension": ".py",
   "mimetype": "text/x-python",
   "name": "python",
   "nbconvert_exporter": "python",
   "pygments_lexer": "ipython3",
   "version": "3.9.13"
  }
 },
 "nbformat": 4,
 "nbformat_minor": 5
}
