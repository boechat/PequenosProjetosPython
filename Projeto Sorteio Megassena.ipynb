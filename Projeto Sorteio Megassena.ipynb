{
 "cells": [
  {
   "cell_type": "code",
   "execution_count": 1,
   "id": "df64001b",
   "metadata": {},
   "outputs": [],
   "source": [
    "# Pegando todos os jogos escolhidos em uma lista\n",
    "\n",
    "list = [\n",
    "    [1,2,10,13,22,49],\n",
    "    [4,7,34,36,49,56],\n",
    "    [2,8,12,24,40,55],\n",
    "    [2,4,9,38,56,59],\n",
    "    [2,5,19,20,28,59],\n",
    "    [2,7,13,45,53,57],\n",
    "    [7,14,25,32,37,58],\n",
    "    [7,10,19,24,31,40],\n",
    "    [18,26,31,36,42,46],\n",
    "    [7,9,15,21,53,55],\n",
    "    [11,14,18,20,51,58]\n",
    "]\n",
    "\n",
    "# Criaremos uma lista nova para pegar todos os numeros fora das suas respectivas listas\n",
    "newlist = []"
   ]
  },
  {
   "cell_type": "code",
   "execution_count": 2,
   "id": "cde03d32",
   "metadata": {},
   "outputs": [],
   "source": [
    "# O loop percorre a lista de jogos, depois percorre cada numero dentro da listas e coloca dentro da nova lista criada\n",
    "for listas in list:\n",
    "    for item in listas:\n",
    "        newlist.append(item)"
   ]
  },
  {
   "cell_type": "code",
   "execution_count": 3,
   "id": "14002aa9",
   "metadata": {},
   "outputs": [
    {
     "name": "stdout",
     "output_type": "stream",
     "text": [
      "[1, 2, 10, 13, 22, 49, 4, 7, 34, 36, 49, 56, 2, 8, 12, 24, 40, 55, 2, 4, 9, 38, 56, 59, 2, 5, 19, 20, 28, 59, 2, 7, 13, 45, 53, 57, 7, 14, 25, 32, 37, 58, 7, 10, 19, 24, 31, 40, 18, 26, 31, 36, 42, 46, 7, 9, 15, 21, 53, 55, 11, 14, 18, 20, 51, 58]\n"
     ]
    }
   ],
   "source": [
    "# Visualizando\n",
    "print(newlist)"
   ]
  },
  {
   "cell_type": "code",
   "execution_count": 32,
   "id": "788e957d",
   "metadata": {},
   "outputs": [
    {
     "name": "stdout",
     "output_type": "stream",
     "text": [
      "[1, 2, 2, 2, 2, 2, 4, 4, 5, 7, 7, 7, 7, 7, 8, 9, 9, 10, 10, 11, 12, 13, 13, 14, 14, 15, 18, 18, 19, 19, 20, 20, 21, 22, 24, 24, 25, 26, 28, 31, 31, 32, 34, 36, 36, 37, 38, 40, 40, 42, 45, 46, 49, 49, 51, 53, 53, 55, 55, 56, 56, 57, 58, 58, 59, 59]\n"
     ]
    }
   ],
   "source": [
    "# Visualizando os numeros ordenadamente\n",
    "ordenar = sorted(newlist)\n",
    "print(ordenar)\n",
    "\n",
    "#Como é possivel ter numeros repetidos, iremos mantê-los para aumentar a chances deles aparecerem no nosso resultado"
   ]
  },
  {
   "cell_type": "code",
   "execution_count": 39,
   "id": "2604e4f3",
   "metadata": {},
   "outputs": [
    {
     "name": "stdout",
     "output_type": "stream",
     "text": [
      "O número 2 aparece 5 vezes na lista\n",
      "O número 10 aparece 2 vezes na lista\n",
      "O número 13 aparece 2 vezes na lista\n",
      "O número 49 aparece 2 vezes na lista\n",
      "O número 4 aparece 2 vezes na lista\n",
      "O número 7 aparece 5 vezes na lista\n",
      "O número 36 aparece 2 vezes na lista\n",
      "O número 56 aparece 2 vezes na lista\n",
      "O número 24 aparece 2 vezes na lista\n",
      "O número 40 aparece 2 vezes na lista\n",
      "O número 55 aparece 2 vezes na lista\n",
      "O número 9 aparece 2 vezes na lista\n",
      "O número 59 aparece 2 vezes na lista\n",
      "O número 19 aparece 2 vezes na lista\n",
      "O número 20 aparece 2 vezes na lista\n",
      "O número 53 aparece 2 vezes na lista\n",
      "O número 14 aparece 2 vezes na lista\n",
      "O número 58 aparece 2 vezes na lista\n",
      "O número 31 aparece 2 vezes na lista\n",
      "O número 18 aparece 2 vezes na lista\n"
     ]
    }
   ],
   "source": [
    "# Ver os numeros mais populares\n",
    "from collections import Counter\n",
    "\n",
    "contador = Counter(newlist)\n",
    "for numero, frequencia in contador.items():\n",
    "    if frequencia >1:\n",
    "        print(f'O número {numero} aparece {frequencia} vezes na lista')"
   ]
  },
  {
   "cell_type": "code",
   "execution_count": 38,
   "id": "44e77181",
   "metadata": {},
   "outputs": [
    {
     "name": "stdout",
     "output_type": "stream",
     "text": [
      "Sorteio FINAL:  [49, 22, 10, 57, 19, 45, 37, 5]\n"
     ]
    }
   ],
   "source": [
    "import random\n",
    "# Sorteia os numeros ordenados, pegando 8 posições\n",
    "sorteado = random.sample(ordenar, k=8)\n",
    "#if len(set(sorteado)) == 8:\n",
    "    #print('De primeira heim')\n",
    "#else:\n",
    "    #print('Deu Ruim: ',sorteado)\n",
    "    #print('Sorteia essa porra de novo!')\n",
    "# Verifica usando o set se há 8 numeros unicos\n",
    "while len(set(sorteado)) <8:\n",
    "    # Sorteia novamente caso len seja menor que 8 , ou seja, caso não tenha 8 numeros unicos\n",
    "    sorteado = random.sample(ordenar, k=8)\n",
    "print('Sorteio FINAL: ',sorteado)"
   ]
  },
  {
   "cell_type": "code",
   "execution_count": null,
   "id": "0fbb0e6f",
   "metadata": {},
   "outputs": [],
   "source": []
  },
  {
   "cell_type": "code",
   "execution_count": null,
   "id": "fa02c411",
   "metadata": {},
   "outputs": [],
   "source": []
  },
  {
   "cell_type": "code",
   "execution_count": null,
   "id": "12437866",
   "metadata": {},
   "outputs": [],
   "source": []
  }
 ],
 "metadata": {
  "kernelspec": {
   "display_name": "Python 3 (ipykernel)",
   "language": "python",
   "name": "python3"
  },
  "language_info": {
   "codemirror_mode": {
    "name": "ipython",
    "version": 3
   },
   "file_extension": ".py",
   "mimetype": "text/x-python",
   "name": "python",
   "nbconvert_exporter": "python",
   "pygments_lexer": "ipython3",
   "version": "3.9.13"
  }
 },
 "nbformat": 4,
 "nbformat_minor": 5
}
