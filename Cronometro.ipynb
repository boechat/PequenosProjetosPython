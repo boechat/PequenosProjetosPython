{
 "cells": [
  {
   "cell_type": "code",
   "execution_count": 24,
   "id": "12bbc88b",
   "metadata": {},
   "outputs": [
    {
     "name": "stdout",
     "output_type": "stream",
     "text": [
      "FIM DO CRONOMETRO, SE PASSARAM 12 SEGUNDOS\n"
     ]
    }
   ],
   "source": [
    "import time\n",
    "\n",
    "def contador(segundos):\n",
    "    for i in range(segundos):\n",
    "        if i+1 == segundos:\n",
    "            print('FIM DO CRONOMETRO, SE PASSARAM '+str(segundos)+' SEGUNDOS')\n",
    "        else:\n",
    "            min, seg = divmod(segundos-i,60)\n",
    "            texto = f'{min:02d}:{seg:02d}'\n",
    "            print(texto,end='\\r')\n",
    "            time.sleep(1)\n",
    "            \n",
    "contador(12)"
   ]
  }
 ],
 "metadata": {
  "kernelspec": {
   "display_name": "Python 3 (ipykernel)",
   "language": "python",
   "name": "python3"
  },
  "language_info": {
   "codemirror_mode": {
    "name": "ipython",
    "version": 3
   },
   "file_extension": ".py",
   "mimetype": "text/x-python",
   "name": "python",
   "nbconvert_exporter": "python",
   "pygments_lexer": "ipython3",
   "version": "3.9.13"
  }
 },
 "nbformat": 4,
 "nbformat_minor": 5
}
